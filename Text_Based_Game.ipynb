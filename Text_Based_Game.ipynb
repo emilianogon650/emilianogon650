{
  "nbformat": 4,
  "nbformat_minor": 0,
  "metadata": {
    "colab": {
      "provenance": [],
      "authorship_tag": "ABX9TyNru6hgjoTnui9kST/yP9k5",
      "include_colab_link": true
    },
    "kernelspec": {
      "name": "python3",
      "display_name": "Python 3"
    },
    "language_info": {
      "name": "python"
    }
  },
  "cells": [
    {
      "cell_type": "markdown",
      "metadata": {
        "id": "view-in-github",
        "colab_type": "text"
      },
      "source": [
        "<a href=\"https://colab.research.google.com/github/emilianogon650/emilianogon650/blob/main/Text_Based_Game.ipynb\" target=\"_parent\"><img src=\"https://colab.research.google.com/assets/colab-badge.svg\" alt=\"Open In Colab\"/></a>"
      ]
    },
    {
      "cell_type": "code",
      "execution_count": 5,
      "metadata": {
        "colab": {
          "base_uri": "https://localhost:8080/"
        },
        "id": "rY5uG7mKEQJG",
        "outputId": "59b2c6ae-b616-488d-81de-71c087f7e246"
      },
      "outputs": [
        {
          "output_type": "stream",
          "name": "stdout",
          "text": [
            "Welcome to My Mystery Game!\n",
            "You find yourself in a abandoned city.\n",
            "Your goal is to find out why everyone left.\n",
            "You start walking through the unpleasantly quiet city.\n",
            "Ahead, you see a fork in the street.\n",
            "Choose your path:\n",
            "1. Take the left street\n",
            "2. Take the right street\n",
            "Enter the number of your choice: 1\n",
            "You chose the left street. It leads you a run down hospital.\n",
            "As you continue your journey, you encounter what seems to be a person!\n",
            "It looks like a manequinn, not a threat.\n",
            "You start walking through the unpleasantly quiet city.\n",
            "Ahead, you see a fork in the street.\n",
            "Choose your path:\n",
            "1. Take the left street\n",
            "2. Take the right street\n",
            "Enter the number of your choice: 2\n",
            "You chose the right path. It takes you a police station.\n",
            "Congratulations! You've reached an office.\n",
            "You found a paper stating that there was some sort of viral outbreak.\n",
            "You successfully investigated!\n"
          ]
        }
      ],
      "source": [
        "import time\n",
        "\n",
        "def introduction():\n",
        "    print(\"Welcome to My Mystery Game!\")\n",
        "    time.sleep(1)\n",
        "    print(\"You find yourself in a abandoned city.\")\n",
        "    time.sleep(1)\n",
        "    print(\"Your goal is to find out why everyone left.\")\n",
        "    time.sleep(1)\n",
        "\n",
        "def make_choice(choices):\n",
        "    print(\"Choose your path:\")\n",
        "    for i, choice in enumerate(choices, 1):\n",
        "        print(f\"{i}. {choice}\")\n",
        "\n",
        "    while True:\n",
        "        try:\n",
        "            choice = int(input(\"Enter the number of your choice: \"))\n",
        "            if 1 <= choice <= len(choices):\n",
        "                return choice\n",
        "            else:\n",
        "                print(\"Invalid choice. Please enter a valid number.\")\n",
        "        except ValueError:\n",
        "            print(\"Invalid input. Please enter a number.\")\n",
        "\n",
        "def forest_path():\n",
        "    print(\"You start walking through the unpleasantly quiet city.\")\n",
        "    time.sleep(1)\n",
        "    print(\"Ahead, you see a fork in the street.\")\n",
        "\n",
        "    choices = [\"Take the left street\", \"Take the right street\"]\n",
        "    choice = make_choice(choices)\n",
        "\n",
        "    if choice == 1:\n",
        "        print(\"You chose the left street. It leads you a run down hospital.\")\n",
        "    else:\n",
        "        print(\"You chose the right path. It takes you a police station.\")\n",
        "\n",
        "def encounter_enemy():\n",
        "    print(\"As you continue your journey, you encounter what seems to be a person!\")\n",
        "    time.sleep(1)\n",
        "    print(\"It looks like a manequinn, not a threat.\")\n",
        "\n",
        "def treasure_room():\n",
        "    print(\"Congratulations! You've reached an office.\")\n",
        "    time.sleep(1)\n",
        "    print(\"You found a paper stating that there was some sort of viral outbreak.\")\n",
        "    time.sleep(1)\n",
        "    print(\"You successfully investigated!\")\n",
        "\n",
        "def main():\n",
        "    introduction()\n",
        "\n",
        "    # Stage 1: Forest Path\n",
        "    forest_path()\n",
        "\n",
        "    # Stage 2: Encounter Enemy\n",
        "    encounter_enemy()\n",
        "\n",
        "    # Stage 3: Forest Path (Continued)\n",
        "    forest_path()\n",
        "\n",
        "    # Stage 4: Treasure Room\n",
        "    treasure_room()\n",
        "\n",
        "if __name__ == \"__main__\":\n",
        "    main()\n"
      ]
    }
  ]
}