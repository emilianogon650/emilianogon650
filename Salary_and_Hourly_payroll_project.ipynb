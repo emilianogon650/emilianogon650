{
  "nbformat": 4,
  "nbformat_minor": 0,
  "metadata": {
    "colab": {
      "provenance": [],
      "authorship_tag": "ABX9TyNxluFUQv6yzccBbHExyiNy",
      "include_colab_link": true
    },
    "kernelspec": {
      "name": "python3",
      "display_name": "Python 3"
    },
    "language_info": {
      "name": "python"
    }
  },
  "cells": [
    {
      "cell_type": "markdown",
      "metadata": {
        "id": "view-in-github",
        "colab_type": "text"
      },
      "source": [
        "<a href=\"https://colab.research.google.com/github/emilianogon650/emilianogon650/blob/main/Salary_and_Hourly_payroll_project.ipynb\" target=\"_parent\"><img src=\"https://colab.research.google.com/assets/colab-badge.svg\" alt=\"Open In Colab\"/></a>"
      ]
    },
    {
      "cell_type": "code",
      "source": [
        "# Function that calculates salaried employee income in February\n",
        "def calc_salaried_income(annual_salary, monthly_bonus):\n",
        "    monthly_salary = (annual_salary + monthly_bonus) / 12\n",
        "    return monthly_salary\n",
        "\n",
        "# Function that calculates hourly employee income in February\n",
        "def calc_hourly_income(money_per_hour, hours_worked):\n",
        "    if hours_worked <= 160:\n",
        "        total_pay = money_per_hour * hours_worked\n",
        "    else:\n",
        "        regular_pay = money_per_hour * 160\n",
        "        overtime_hours = hours_worked - 160\n",
        "        overtime_pay = money_per_hour * 1.5 * overtime_hours\n",
        "        total_pay = regular_pay + overtime_pay\n",
        "    return total_pay\n",
        "\n",
        "# Function that calculates tax for a given paycheck\n",
        "def calculate_tax(paycheck):\n",
        "    if paycheck <= (50000/12):\n",
        "      tax = .10 * paycheck\n",
        "    if (50000/12) < paycheck <= (80000/12):\n",
        "      first50 = .10 * (50000/12)\n",
        "      next30 = .20 * (paycheck - (50000/12))\n",
        "      tax = first50 + next30\n",
        "    if (80000/12) < paycheck:\n",
        "      first50 = .10 * (50000/12)\n",
        "      next30 = .20 * (30000/12)\n",
        "      above80 = .40 * (paycheck - (80000/12))\n",
        "      tax = first50 + next30 + above80\n",
        "    return tax\n",
        "\n",
        "# Main program\n",
        "employees = int(input(\"Enter the number of employees: \"))\n",
        "employee_taxes = []\n",
        "\n",
        "for n in range(employees):\n",
        "    employeename = input(\"What is their name? \")\n",
        "    jobtitle = input(\"What do they do? \")\n",
        "    hourlyorsalary = input(\"Are they an hourly or a salaried employee? \")\n",
        "\n",
        "    if hourlyorsalary == \"hourly\":\n",
        "        money_per_hour = float(input(\"How much do you make an hour? \"))\n",
        "        hours_worked = float(input(\"How many hours did you work in February? \"))\n",
        "        total_pay = calc_hourly_income(money_per_hour, hours_worked)\n",
        "        print(f\"{employeename} earned a total of ${total_pay:.2f} in February.\")\n",
        "        tax = calculate_tax(total_pay)\n",
        "        print(f\"The tax for {employeename}'s paycheck of ${total_pay:.2f} is ${tax:.2f}.\")\n",
        "    elif hourlyorsalary == \"salaried\":\n",
        "        annual_salary = float(input(\"What was your salary? \"))\n",
        "        bonus_question_mark = input(\"Did you receive a monthly bonus? \")\n",
        "        if bonus_question_mark.lower() == \"yes\":\n",
        "            monthly_bonus = float(input(\"Enter their bonus: \"))\n",
        "        else:\n",
        "            monthly_bonus = 0\n",
        "        monthly_salary = calc_salaried_income(annual_salary, monthly_bonus)\n",
        "        print(f\"{employeename} earned a total of ${monthly_salary:.2f} in February.\")\n",
        "        tax = calculate_tax(monthly_salary)\n",
        "        print(f\"The tax for {employeename}'s paycheck of ${monthly_salary:.2f} is ${tax:.2f}.\")\n",
        "\n",
        "    employee_taxes.append((employeename, jobtitle, tax))\n",
        "\n",
        "print(\"\\nEmployee taxes:\")\n",
        "for name, title, tax in employee_taxes:\n",
        "    print(f\"{name}, {title}: ${tax:.1f}\")"
      ],
      "metadata": {
        "colab": {
          "base_uri": "https://localhost:8080/"
        },
        "id": "JPYE3I5XDBMj",
        "outputId": "53c5d70c-574a-47a9-c794-86e225d6bb20"
      },
      "execution_count": null,
      "outputs": [
        {
          "output_type": "stream",
          "name": "stdout",
          "text": [
            "Enter the number of employees: 1\n",
            "What is their name? cynthia b dewey\n",
            "What do they do? partner\n",
            "Are they an hourly or a salaried employee? salaried\n",
            "What was your salary? 150000\n",
            "Did you receive a monthly bonus? yes\n",
            "Enter their bonus: 50000\n",
            "cynthia b dewey earned a total of $16666.67 in February.\n",
            "The tax for cynthia b dewey's paycheck of $16666.67 is $4916.67.\n",
            "\n",
            "Employee taxes:\n",
            "cynthia b dewey, partner: $4916.7\n"
          ]
        }
      ]
    }
  ]
}